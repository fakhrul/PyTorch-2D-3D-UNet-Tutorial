{
 "cells": [
  {
   "cell_type": "code",
   "execution_count": 54,
   "id": "d7e5d262",
   "metadata": {},
   "outputs": [
    {
     "name": "stdout",
     "output_type": "stream",
     "text": [
      "[0. 1.]\n",
      "[[1. 0.]\n",
      " [0. 0.]]\n"
     ]
    },
    {
     "data": {
      "image/png": "[encoded data removed]",
      "text/plain": [
       "<Figure size 720x720 with 2 Axes>"
      ]
     },
     "metadata": {
      "needs_background": "light"
     },
     "output_type": "display_data"
    }
   ],
   "source": [
    "import cv2\n",
    "import numpy as np\n",
    "import matplotlib.pyplot as plt\n",
    "import torch\n",
    "\n",
    "img = np.zeros([2,2])\n",
    "img = cv2.rectangle(img, (0,0), (0,0), 1, -1)\n",
    "print(np.unique(img))\n",
    "print(img)\n",
    "\n",
    "img2 = np.zeros([2,2])\n",
    "img2 = cv2.rectangle(img2, (0,0), (1,0), 1, -1)\n",
    "\n",
    "bg = np.zeros([2,2])\n",
    "\n",
    "fig, ax = plt.subplots(1, 2, figsize=(10,10))\n",
    "\n",
    "ax[0].imshow(img, cmap='gray')\n",
    "ax[1].imshow(img2, cmap='gray')\n",
    "plt.show()\n"
   ]
  },
  {
   "cell_type": "code",
   "execution_count": 50,
   "id": "e323fd45",
   "metadata": {},
   "outputs": [
    {
     "name": "stdout",
     "output_type": "stream",
     "text": [
      "correct 3\n",
      "total 4\n",
      "accuracy 75.0\n"
     ]
    }
   ],
   "source": [
    "correct = (img == bg).sum()\n",
    "print(\"correct\",correct)\n",
    "total = img.size\n",
    "print(\"total\", total)\n",
    "accuracy = correct / total * 100\n",
    "print('accuracy', accuracy)"
   ]
  },
  {
   "cell_type": "code",
   "execution_count": 69,
   "id": "e97d0ece",
   "metadata": {},
   "outputs": [
    {
     "name": "stdout",
     "output_type": "stream",
     "text": [
      "[0. 1.]\n",
      "iou 0.5\n"
     ]
    },
    {
     "data": {
      "text/plain": [
       "<matplotlib.image.AxesImage at 0x232f0ff2310>"
      ]
     },
     "execution_count": 69,
     "metadata": {},
     "output_type": "execute_result"
    },
    {
     "data": {
      "image/png": "[encoded data removed]",
      "text/plain": [
       "<Figure size 144x144 with 2 Axes>"
      ]
     },
     "metadata": {
      "needs_background": "light"
     },
     "output_type": "display_data"
    }
   ],
   "source": [
    "overlap = img * img2\n",
    "union = img + img2\n",
    "union[union > 1] = 1\n",
    "print(np.unique(union))\n",
    "\n",
    "iou = overlap.sum() / union.sum()\n",
    "print('iou', iou)\n",
    "\n",
    "fg, ax = plt.subplots(1,2, figsize=(2,2))\n",
    "ax[0].imshow(overlap, cmap='gray')\n",
    "ax[1].imshow(union, cmap='gray')"
   ]
  },
  {
   "cell_type": "code",
   "execution_count": null,
   "id": "d379d082",
   "metadata": {},
   "outputs": [],
   "source": []
  },
  {
   "cell_type": "code",
   "execution_count": null,
   "id": "edc088ee",
   "metadata": {},
   "outputs": [],
   "source": []
  },
  {
   "cell_type": "code",
   "execution_count": null,
   "id": "1a4fd473",
   "metadata": {},
   "outputs": [],
   "source": []
  },
  {
   "cell_type": "code",
   "execution_count": null,
   "id": "0b943456",
   "metadata": {},
   "outputs": [],
   "source": []
  },
  {
   "cell_type": "code",
   "execution_count": null,
   "id": "12a25474",
   "metadata": {},
   "outputs": [],
   "source": []
  },
  {
   "cell_type": "code",
   "execution_count": null,
   "id": "62a18cc8",
   "metadata": {},
   "outputs": [],
   "source": []
  },
  {
   "cell_type": "code",
   "execution_count": null,
   "id": "4adb9da1",
   "metadata": {},
   "outputs": [],
   "source": []
  },
  {
   "cell_type": "code",
   "execution_count": null,
   "id": "be0ee16a",
   "metadata": {},
   "outputs": [],
   "source": []
  },
  {
   "cell_type": "code",
   "execution_count": null,
   "id": "f1b8d2b7",
   "metadata": {},
   "outputs": [],
   "source": [
    "import numpy as np\n",
    "import torch.nn as nn\n",
    "import matplotlib.pyplot as plt\n",
    "\n",
    "def dice_metric(inputs, target):\n",
    "    intersection = 2.0 * (target * inputs).sum()\n",
    "    union = target.sum() + inputs.sum()\n",
    "    if target.sum() == 0 and inputs.sum() == 0:\n",
    "        return 1.0\n",
    "\n",
    "    return intersection / union\n",
    "\n",
    "def dice_loss(inputs, target):\n",
    "    num = target.size(0)\n",
    "    inputs = inputs.reshape(num, -1)\n",
    "    target = target.reshape(num, -1)\n",
    "    smooth = 1.0\n",
    "    intersection = (inputs * target)\n",
    "\n",
    "    print('intersection', intersection.reshape(1080, 1920).shape, intersection.unique())\n",
    "    plt.imshow(intersection.reshape(1080, 1920), cmap=\"gray\")\n",
    "    \n",
    "    dice = (2. * intersection.sum(1) + smooth) / (inputs.sum(1) + target.sum(1) + smooth)\n",
    "    dice = 1 - dice.sum() / num\n",
    "    return dice\n",
    "\n",
    "def bce_dice_loss(inputs, target):\n",
    "    dicescore = dice_loss(inputs, target)\n",
    "    bcescore = nn.BCELoss()\n",
    "    bceloss = bcescore(inputs, target)\n",
    "\n",
    "    return bceloss + dicescore\n",
    "\n",
    "\n",
    "def meanIOU(target, predicted):\n",
    "    if target.shape != predicted.shape:\n",
    "        print(\"target has dimension\", target.shape, \", predicted values have shape\", predicted.shape)\n",
    "        return\n",
    "        \n",
    "    if target.dim() != 4:\n",
    "        print(\"target has dim\", target.dim(), \", Must be 4.\")\n",
    "        return\n",
    "    \n",
    "    iousum = 0\n",
    "    for i in range(target.shape[0]):\n",
    "        target_arr = target[i, :, :, :].clone().detach().cpu().numpy().argmax(0)\n",
    "        predicted_arr = predicted[i, :, :, :].clone().detach().cpu().numpy().argmax(0)\n",
    "        \n",
    "        intersection = np.logical_and(target_arr, predicted_arr).sum()\n",
    "        union = np.logical_or(target_arr, predicted_arr).sum()\n",
    "        if union == 0:\n",
    "            iou_score = 0\n",
    "        else :\n",
    "            iou_score = intersection / union\n",
    "        iousum +=iou_score\n",
    "        \n",
    "    miou = iousum/target.shape[0]\n",
    "    return miou\n",
    "\n",
    "#iou = bce_dice_loss(torch.from_numpy(mask.reshape(1,1,1080,1920)), torch.from_numpy(output.reshape(1,1,1080,1920)))\n",
    "dm = dice_metric(torch.from_numpy(mask.reshape(1,1,1080,1920)), torch.from_numpy(output.reshape(1,1,1080,1920)))\n",
    "print(\"dice matrix\", dm.item())\n",
    "\n",
    "dl = dice_loss(torch.from_numpy(mask.reshape(1,1,1080,1920)), torch.from_numpy(output.reshape(1,1,1080,1920)))\n",
    "print(\"dice lose\", dl.item())"
   ]
  }
 ],
 "metadata": {
  "kernelspec": {
   "display_name": "Python 3",
   "language": "python",
   "name": "python3"
  },
  "language_info": {
   "codemirror_mode": {
    "name": "ipython",
    "version": 3
   },
   "file_extension": ".py",
   "mimetype": "text/x-python",
   "name": "python",
   "nbconvert_exporter": "python",
   "pygments_lexer": "ipython3",
   "version": "3.9.5"
  }
 },
 "nbformat": 4,
 "nbformat_minor": 5
}
